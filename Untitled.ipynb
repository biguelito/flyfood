{
 "cells": [
  {
   "cell_type": "code",
   "execution_count": 1,
   "id": "9bb72ed3",
   "metadata": {},
   "outputs": [],
   "source": [
    "from runtest import RunTest"
   ]
  },
  {
   "cell_type": "code",
   "execution_count": 3,
   "id": "1c8fecc1",
   "metadata": {},
   "outputs": [
    {
     "name": "stdout",
     "output_type": "stream",
     "text": [
      "                                   FlyFood\n",
      "Forca Bruta:\n",
      "Tempo: 0.00012714200056507252 Peso: 14\n",
      "\n",
      "Algoritmo Genetico:\n",
      "          melhor custo  media de pesos  prob. menor custo  media de tempo\n",
      "(2, 4)              14          16.488               29.4        0.000262\n",
      "(4, 6)              14          14.798               68.6        0.000577\n",
      "(6, 8)              14          14.234               89.4        0.001164\n",
      "(8, 10)             14          14.040               98.2        0.001853\n",
      "(10, 12)            14          14.006               99.7        0.002561\n",
      "(12, 14)            14          14.000              100.0        0.003455\n"
     ]
    }
   ],
   "source": [
    "grafo_input = open('input.txt', 'r')\n",
    "grafo = RunTest(grafo_input)\n",
    "grafo_input.close()\n",
    "\n",
    "testes_totais = 6\n",
    "testes_por_valores = 1000\n",
    "tamanho_populacao = 2\n",
    "geracoes = 4\n",
    "probabilidade_mutacao = 0.05\n",
    "cres_populacao = 2\n",
    "cres_geracao = 2\n",
    "\n",
    "grafo.run(testes_totais, testes_por_valores, tamanho_populacao, geracoes, probabilidade_mutacao, cres_populacao, cres_geracao)\n",
    "print('                                   FlyFood')\n",
    "grafo.resume()"
   ]
  },
  {
   "cell_type": "code",
   "execution_count": 5,
   "id": "096eb9c4",
   "metadata": {},
   "outputs": [
    {
     "name": "stdout",
     "output_type": "stream",
     "text": [
      "                                grafo 7x7-8 cidades\n",
      "Forca Bruta:\n",
      "Tempo: 0.4980891220002377 Peso: 30\n",
      "\n",
      "Algoritmo Genetico:\n",
      "           melhor custo  media de pesos  prob. menor custo  media de tempo\n",
      "(16, 60)             30          32.348               18.0        0.014184\n",
      "(20, 68)             30          31.976               26.0        0.037184\n",
      "(24, 76)             30          31.782               27.1        0.054554\n",
      "(28, 84)             30          31.648               31.6        0.067135\n",
      "(32, 92)             30          31.498               35.1        0.091607\n",
      "(36, 100)            30          31.298               40.7        0.105414\n"
     ]
    }
   ],
   "source": [
    "grafo_input = open('input7x7-8.txt', 'r')\n",
    "grafo = RunTest(grafo_input)\n",
    "grafo_input.close()\n",
    "\n",
    "testes_totais = 6\n",
    "testes_por_valores = 1000\n",
    "tamanho_populacao = 16\n",
    "geracoes = 60\n",
    "probabilidade_mutacao = 0.05\n",
    "cres_populacao = 4\n",
    "cres_geracao = 8\n",
    "\n",
    "grafo.run(testes_totais, testes_por_valores, tamanho_populacao, geracoes, probabilidade_mutacao, cres_populacao, cres_geracao)\n",
    "print('                                grafo 7x7-8 cidades')\n",
    "grafo.resume()"
   ]
  }
 ],
 "metadata": {
  "kernelspec": {
   "display_name": "Python 3 (ipykernel)",
   "language": "python",
   "name": "python3"
  },
  "language_info": {
   "codemirror_mode": {
    "name": "ipython",
    "version": 3
   },
   "file_extension": ".py",
   "mimetype": "text/x-python",
   "name": "python",
   "nbconvert_exporter": "python",
   "pygments_lexer": "ipython3",
   "version": "3.8.10"
  }
 },
 "nbformat": 4,
 "nbformat_minor": 5
}
