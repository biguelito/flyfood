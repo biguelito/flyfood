{
 "cells": [
  {
   "cell_type": "code",
   "execution_count": 2,
   "id": "9bb72ed3",
   "metadata": {},
   "outputs": [
    {
     "name": "stdout",
     "output_type": "stream",
     "text": [
      "Forca Bruta encontrou o caminho: a de peso 0 em 0\n",
      "\n",
      "Algoritmo genetico encontrou os caminhos:\n"
     ]
    }
   ],
   "source": [
    "from runtest import RunTest\n",
    "grafo = open('input10x10-11.txt', 'r')\n",
    "grafo11 = RunTest(grafo)\n",
    "grafo.close()\n",
    "\n",
    "grafo11.run()"
   ]
  }
 ],
 "metadata": {
  "kernelspec": {
   "display_name": "Python 3 (ipykernel)",
   "language": "python",
   "name": "python3"
  },
  "language_info": {
   "codemirror_mode": {
    "name": "ipython",
    "version": 3
   },
   "file_extension": ".py",
   "mimetype": "text/x-python",
   "name": "python",
   "nbconvert_exporter": "python",
   "pygments_lexer": "ipython3",
   "version": "3.8.10"
  }
 },
 "nbformat": 4,
 "nbformat_minor": 5
}
