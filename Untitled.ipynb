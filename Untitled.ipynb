{
 "cells": [
  {
   "cell_type": "code",
   "execution_count": 1,
   "id": "9bb72ed3",
   "metadata": {},
   "outputs": [],
   "source": [
    "from runtest import RunTest"
   ]
  },
  {
   "cell_type": "code",
   "execution_count": 5,
   "id": "1c8fecc1",
   "metadata": {},
   "outputs": [
    {
     "name": "stdout",
     "output_type": "stream",
     "text": [
      "Forca Bruta:\n",
      "Tempo: 0.0001737640000101237 Peso: 14\n",
      "\n",
      "          melhor custo  media de pesos  prob. menor custo  media de tempo\n",
      "(2, 4)              14          16.578              0.263        0.000120\n",
      "(4, 6)              14          14.828              0.680        0.000256\n",
      "(6, 8)              14          14.196              0.909        0.000449\n",
      "(8, 10)             14          14.060              0.971        0.000706\n",
      "(10, 12)            14          14.004              0.998        0.001026\n",
      "(12, 14)            14          14.000              1.000        0.002103\n"
     ]
    }
   ],
   "source": [
    "grafo_input = open('input.txt', 'r')\n",
    "grafo = RunTest(grafo_input)\n",
    "grafo_input.close()\n",
    "\n",
    "testes_totais = 6\n",
    "testes_por_valores = 1000\n",
    "tamanho_populacao = 2\n",
    "geracoes = 4\n",
    "probabilidade_mutacao = 0.05\n",
    "cres_populacao = 2\n",
    "cres_geracao = 2\n",
    "\n",
    "grafo.run(testes_totais, testes_por_valores, tamanho_populacao, geracoes, probabilidade_mutacao, cres_populacao, cres_geracao)\n",
    "grafo.resume()"
   ]
  }
 ],
 "metadata": {
  "kernelspec": {
   "display_name": "Python 3 (ipykernel)",
   "language": "python",
   "name": "python3"
  },
  "language_info": {
   "codemirror_mode": {
    "name": "ipython",
    "version": 3
   },
   "file_extension": ".py",
   "mimetype": "text/x-python",
   "name": "python",
   "nbconvert_exporter": "python",
   "pygments_lexer": "ipython3",
   "version": "3.8.10"
  }
 },
 "nbformat": 4,
 "nbformat_minor": 5
}
