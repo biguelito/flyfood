{
 "cells": [
  {
   "cell_type": "code",
   "execution_count": 1,
   "id": "9bb72ed3",
   "metadata": {},
   "outputs": [
    {
     "name": "stdout",
     "output_type": "stream",
     "text": [
      "Forca Bruta:\n",
      "Tempo: 0.6421402910000324 Peso: 30\n",
      "\n",
      "          media custo caminho  media custo tempo\n",
      "(10, 30)            33.833333           0.009307\n",
      "(14, 38)            32.946667           0.016252\n",
      "(18, 46)            32.586667           0.026136\n",
      "(22, 54)            32.240000           0.050398\n",
      "(26, 62)            31.960000           0.077504\n",
      "(30, 70)            31.766667           0.098574\n"
     ]
    }
   ],
   "source": [
    "from runtest import RunTest\n",
    "grafo = open('input7x7-8.txt', 'r')\n",
    "grafo8 = RunTest(grafo)\n",
    "grafo.close()\n",
    "\n",
    "testes_totais = 6\n",
    "testes_por_valores = 300\n",
    "tamanho_populacao = 10\n",
    "geracoes = 30\n",
    "probabilidade_mutacao = 0.05\n",
    "cres_populacao = 4\n",
    "cres_geracao = 8\n",
    "\n",
    "grafo8.run(testes_totais, testes_por_valores, tamanho_populacao, geracoes, probabilidade_mutacao, cres_populacao, cres_geracao)\n",
    "grafo8.resume()"
   ]
  }
 ],
 "metadata": {
  "kernelspec": {
   "display_name": "Python 3 (ipykernel)",
   "language": "python",
   "name": "python3"
  },
  "language_info": {
   "codemirror_mode": {
    "name": "ipython",
    "version": 3
   },
   "file_extension": ".py",
   "mimetype": "text/x-python",
   "name": "python",
   "nbconvert_exporter": "python",
   "pygments_lexer": "ipython3",
   "version": "3.8.10"
  }
 },
 "nbformat": 4,
 "nbformat_minor": 5
}
