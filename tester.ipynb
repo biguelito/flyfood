{
 "cells": [
  {
   "cell_type": "code",
   "execution_count": 2,
   "id": "9bb72ed3",
   "metadata": {},
   "outputs": [],
   "source": [
    "from runtest import RunTest"
   ]
  },
  {
   "cell_type": "code",
   "execution_count": 3,
   "id": "1c8fecc1",
   "metadata": {},
   "outputs": [
    {
     "name": "stdout",
     "output_type": "stream",
     "text": [
      "                                   FlyFood\n",
      "Algoritmo Genetico:\n",
      "          melhor custo  media de pesos  prob. menor custo  media de tempo\n",
      "(2, 4)              14           16.48               28.0        0.000124\n",
      "(4, 6)              14           14.84               67.0        0.000301\n",
      "(6, 8)              14           14.12               94.0        0.000658\n",
      "(8, 10)             14           14.04               98.0        0.000831\n",
      "(10, 12)            14           14.02               99.0        0.001196\n",
      "(12, 14)            14           14.00              100.0        0.001488\n",
      "\n",
      "Forca Bruta:\n",
      "Tempo: 7.873499998822808e-05 Peso: 14\n"
     ]
    }
   ],
   "source": [
    "grafo_input = open('input.txt', 'r')\n",
    "grafo = RunTest(grafo_input)\n",
    "grafo_input.close()\n",
    "\n",
    "testes_totais = 6\n",
    "testes_por_valores = 100\n",
    "tamanho_populacao = 2\n",
    "geracoes = 4\n",
    "probabilidade_mutacao = 0.05\n",
    "cres_populacao = 2\n",
    "cres_geracao = 2\n",
    "\n",
    "print('                                   FlyFood')\n",
    "grafo.genetic_algoritm(testes_totais, testes_por_valores, tamanho_populacao, geracoes, probabilidade_mutacao, cres_populacao, cres_geracao)\n",
    "grafo.resume_genetic_algoritm()\n",
    "grafo.brute_force()\n",
    "grafo.resume_brute_force()"
   ]
  },
  {
   "cell_type": "code",
   "execution_count": 11,
   "id": "096eb9c4",
   "metadata": {},
   "outputs": [
    {
     "name": "stdout",
     "output_type": "stream",
     "text": [
      "                                   grafo 7x7 8 cidades\n",
      "Algoritmo Genetico:\n",
      "            melhor custo  media de pesos  prob. menor custo  media de tempo\n",
      "(50, 180)             30           30.68               66.0        0.140028\n",
      "(70, 210)             30           30.70               65.0        0.252753\n",
      "(90, 240)             30           30.34               83.0        0.634859\n",
      "(110, 270)            30           30.20               90.0        0.716604\n",
      "(130, 300)            30           30.16               92.0        1.121323\n",
      "(150, 330)            30           30.08               96.0        1.509693\n",
      "\n",
      "Forca Bruta:\n",
      "Tempo: 0.32018692899873713 Peso: 30\n"
     ]
    }
   ],
   "source": [
    "grafo_input = open('input7x7-8.txt', 'r')\n",
    "grafo = RunTest(grafo_input)\n",
    "grafo_input.close()\n",
    "\n",
    "testes_totais = 6\n",
    "testes_por_valores = 100\n",
    "tamanho_populacao = 50\n",
    "geracoes = 180\n",
    "probabilidade_mutacao = 0.05\n",
    "cres_populacao = 20\n",
    "cres_geracao = 30\n",
    "\n",
    "print('                                   grafo 7x7 8 cidades')\n",
    "grafo.genetic_algoritm(testes_totais, testes_por_valores, tamanho_populacao, geracoes, probabilidade_mutacao, cres_populacao, cres_geracao)\n",
    "grafo.resume_genetic_algoritm()\n",
    "grafo.brute_force()\n",
    "grafo.resume_brute_force()"
   ]
  },
  {
   "cell_type": "code",
   "execution_count": 3,
   "id": "9e1b1da0",
   "metadata": {},
   "outputs": [
    {
     "name": "stdout",
     "output_type": "stream",
     "text": [
      "                                   grafo 10x10 11 cidades\n",
      "Algoritmo Genetico:\n",
      "             melhor custo  media de pesos  prob. menor custo  media de tempo\n",
      "(300, 800)             42           43.84               58.0        5.514231\n",
      "(400, 930)             42           43.44               65.0        8.741446\n",
      "(500, 1060)            42           42.44               88.0       18.178655\n",
      "(600, 1190)            42           42.78               78.0       28.756500\n",
      "(700, 1320)            42           42.60               82.0       44.212696\n",
      "(800, 1450)            42           42.26               90.0       67.306261\n",
      "\n",
      "Forca Bruta:\n",
      "Tempo: 537.4565833439992 Peso: 42\n"
     ]
    }
   ],
   "source": [
    "grafo_input = open('input10x10-11.txt', 'r')\n",
    "grafo = RunTest(grafo_input)\n",
    "grafo_input.close()\n",
    "\n",
    "testes_totais = 6\n",
    "testes_por_valores = 100\n",
    "tamanho_populacao = 300\n",
    "geracoes = 800\n",
    "probabilidade_mutacao = 0.05\n",
    "cres_populacao = 100\n",
    "cres_geracao = 130\n",
    "\n",
    "print('                                   grafo 10x10 11 cidades')\n",
    "grafo.genetic_algoritm(testes_totais, testes_por_valores, tamanho_populacao, geracoes, probabilidade_mutacao, cres_populacao, cres_geracao)\n",
    "grafo.resume_genetic_algoritm()\n",
    "grafo.brute_force()\n",
    "grafo.resume_brute_force()"
   ]
  }
 ],
 "metadata": {
  "kernelspec": {
   "display_name": "Python 3 (ipykernel)",
   "language": "python",
   "name": "python3"
  },
  "language_info": {
   "codemirror_mode": {
    "name": "ipython",
    "version": 3
   },
   "file_extension": ".py",
   "mimetype": "text/x-python",
   "name": "python",
   "nbconvert_exporter": "python",
   "pygments_lexer": "ipython3",
   "version": "3.8.10"
  }
 },
 "nbformat": 4,
 "nbformat_minor": 5
}
